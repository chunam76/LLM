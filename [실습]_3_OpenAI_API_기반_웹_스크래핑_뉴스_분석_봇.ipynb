{
  "cells": [
    {
      "cell_type": "markdown",
      "metadata": {
        "id": "view-in-github",
        "colab_type": "text"
      },
      "source": [
        "<a href=\"https://colab.research.google.com/github/chunam76/LLM/blob/main/%5B%EC%8B%A4%EC%8A%B5%5D_3_OpenAI_API_%EA%B8%B0%EB%B0%98_%EC%9B%B9_%EC%8A%A4%ED%81%AC%EB%9E%98%ED%95%91_%EB%89%B4%EC%8A%A4_%EB%B6%84%EC%84%9D_%EB%B4%87.ipynb\" target=\"_parent\"><img src=\"https://colab.research.google.com/assets/colab-badge.svg\" alt=\"Open In Colab\"/></a>"
      ]
    },
    {
      "cell_type": "markdown",
      "id": "e993b222",
      "metadata": {
        "id": "e993b222"
      },
      "source": [
        "# [실습] OpenAI API를 이용하여 뉴스 기사 정리 봇 만들기"
      ]
    },
    {
      "cell_type": "markdown",
      "id": "f4b410df",
      "metadata": {
        "id": "f4b410df"
      },
      "source": [
        "OpenAI Chat API를 이용해 뉴스 검색 결과를 정리하는 프로그램을 만들어 보겠습니다.\n"
      ]
    },
    {
      "cell_type": "markdown",
      "id": "35b32f4c",
      "metadata": {
        "id": "35b32f4c"
      },
      "source": [
        "크롤링 전용 라이브러리가 필요하지만, 이번 실습에서는 네이버의 뉴스 검색 API를 사용하겠습니다."
      ]
    },
    {
      "cell_type": "code",
      "execution_count": null,
      "id": "f6eb4187",
      "metadata": {
        "id": "f6eb4187"
      },
      "outputs": [],
      "source": [
        "!pip install openai tiktoken --upgrade"
      ]
    },
    {
      "cell_type": "code",
      "execution_count": null,
      "id": "ccd94373",
      "metadata": {
        "id": "ccd94373"
      },
      "outputs": [],
      "source": [
        "# os의 환경 변수에 API 키 복사 붙여넣기\n",
        "import openai\n",
        "import os\n",
        "\n",
        "# OPENAI API KEY 설정\n",
        "os.environ['OPENAI_API_KEY']=\"\"\n",
        "\n",
        "client = openai.OpenAI()\n",
        "\n",
        "\n",
        "assert len(os.environ['OPENAI_API_KEY']) > 0, \"OPENAI_API_KEY가 환경 변수에 설정되어 있지 않습니다. API 키를 설정해주세요.\"\n",
        "\n",
        "# API 키가 설정되어 있다면, 이 지점 이후의 코드가 실행됩니다.\n",
        "print(\"OPENAI_API_KEY가 정상적으로 설정되어 있습니다.\")"
      ]
    },
    {
      "cell_type": "markdown",
      "id": "6184c71a",
      "metadata": {
        "id": "6184c71a"
      },
      "source": [
        "## 1. LLM으로 웹 크롤링 코드 구현 프롬프트 만들기"
      ]
    },
    {
      "cell_type": "markdown",
      "id": "e56eb3c0",
      "metadata": {
        "id": "e56eb3c0"
      },
      "source": [
        "네이버 뉴스 API를 이용해 크롤링을 수행하는 파이썬 코드를 작성하겠습니다.   \n",
        "검색어가 `query` 인수로 주어지면, 관련도순으로 검색된 뉴스 기사 30개의 정보를 {\"title\", \"URL\", \"desc\"} 의 dictionary 형식으로 파싱하고,   \n",
        "이를 리스트로 만들어 json으로 return하는 함수 get_html(query) 를 만들고 싶습니다.   <br>\n",
        "   \n",
        "위 요청을 그대로 전달하면, 함수를 만들 수 있을 것 같습니다.\n",
        "\n",
        "\n",
        "**네이버 뉴스 API를 사용한다는 내용을 명시하면 정확도가 올라갑니다.**"
      ]
    },
    {
      "cell_type": "code",
      "execution_count": null,
      "id": "c7df62cb",
      "metadata": {
        "id": "c7df62cb"
      },
      "outputs": [],
      "source": [
        "prompt_instuction = '''\n",
        "네이버 뉴스 API를 이용해 크롤링을 수행하는 파이썬 코드를 작성해 주세요.\n",
        "검색어가 `query` 인수로 주어지면, 관련도순으로 검색된 뉴스 기사 30개의 정보를 {\"title\", \"URL\", \"desc\"} 의 dictionary 형식으로 파싱하고,\n",
        "이를 리스트로 만들어 json으로 return하는 함수 get_html(query) 를 만들면 됩니다.\n",
        "---\n",
        "'''\n",
        "\n",
        "prompt = '''\n",
        "\n",
        "# 검색어\n",
        "query = '삼성SDS 생성형 AI'\n",
        "\n",
        "\n",
        "# 검색 결과를 return하는 함수\n",
        "def get_html(query):\n",
        "\n",
        "\n",
        "'''\n",
        "\n"
      ]
    },
    {
      "cell_type": "code",
      "execution_count": null,
      "id": "518da06c",
      "metadata": {
        "id": "518da06c",
        "scrolled": true
      },
      "outputs": [],
      "source": [
        "response = client.chat.completions.create(\n",
        "    model = \"gpt-4o-mini\",\n",
        "    messages = [{'role':'system', 'content':'당신은 파이썬 코딩의 전문가입니다.'},\n",
        "          {'role':'user', 'content':prompt_instuction + prompt}],\n",
        "\n",
        "    temperature =  0.1,\n",
        "    max_tokens = 1000\n",
        "\n",
        ")\n",
        "print(response.choices[0].message.content)"
      ]
    },
    {
      "cell_type": "code",
      "execution_count": null,
      "id": "ff32acf9",
      "metadata": {
        "id": "ff32acf9"
      },
      "outputs": [],
      "source": [
        "# VS CODE에서 위 결과가 truncated 되는 경우 scrollable element를 클릭하여 풀 코드 확인"
      ]
    },
    {
      "cell_type": "markdown",
      "id": "026ed5ff",
      "metadata": {
        "id": "026ed5ff"
      },
      "source": [
        "아래의 API 키를 복사하여 넣으면 됩니다."
      ]
    },
    {
      "cell_type": "code",
      "execution_count": null,
      "id": "09b139b1",
      "metadata": {
        "id": "09b139b1"
      },
      "outputs": [],
      "source": [
        "# 네이버 API 키: 개발자 센터에서 발급 가능\n",
        "\n",
        "headers = {\n",
        "    'X-Naver-Client-Id': 'Ko6yIqbV2TOHq9rPH8tu',\n",
        "    'X-Naver-Client-Secret': 'BvqX8mNtHu'\n",
        "}"
      ]
    },
    {
      "cell_type": "markdown",
      "id": "c6zegWViDj_5",
      "metadata": {
        "id": "c6zegWViDj_5"
      },
      "source": [
        "아래에 전체 코드를 넣고 실행합니다."
      ]
    },
    {
      "cell_type": "code",
      "execution_count": null,
      "id": "sSbAVpJ6DjfP",
      "metadata": {
        "id": "sSbAVpJ6DjfP"
      },
      "outputs": [],
      "source": []
    },
    {
      "cell_type": "markdown",
      "id": "875dc181",
      "metadata": {
        "id": "875dc181"
      },
      "source": [
        "아래는 예시 코드입니다."
      ]
    },
    {
      "cell_type": "code",
      "execution_count": null,
      "id": "7b98cc94",
      "metadata": {
        "id": "7b98cc94",
        "scrolled": true
      },
      "outputs": [],
      "source": [
        "# # 전체 코드를 선택 후 Ctrl+/ 로 일괄 주석해제\n",
        "# import requests\n",
        "# import json\n",
        "\n",
        "# def get_html(query):\n",
        "#     # 네이버 API URL\n",
        "#     url = \"https://openapi.naver.com/v1/search/news.json\"\n",
        "\n",
        "#     # API 요청 헤더\n",
        "#     headers = {\n",
        "#     'X-Naver-Client-Id': 'Ko6yIqbV2TOHq9rPH8tu',\n",
        "#     'X-Naver-Client-Secret': 'BvqX8mNtHu'\n",
        "\n",
        "#     }\n",
        "\n",
        "#     # API 요청 파라미터\n",
        "#     params = {\n",
        "#         \"query\": query,\n",
        "#         \"display\": 30,  # 검색 결과 개수\n",
        "#         \"sort\": \"sim\"   # 관련도순 정렬\n",
        "#     }\n",
        "\n",
        "#     # API 요청\n",
        "#     response = requests.get(url, headers=headers, params=params)\n",
        "\n",
        "#     # 응답이 성공적일 경우\n",
        "#     if response.status_code == 200:\n",
        "#         data = response.json()\n",
        "#         articles = data.get('items', [])\n",
        "\n",
        "#         # 결과를 저장할 리스트\n",
        "#         result = []\n",
        "\n",
        "#         # 기사 정보 파싱\n",
        "#         for article in articles:\n",
        "#             result.append({\n",
        "#                 \"title\": article['title'],\n",
        "#                 \"URL\": article['link'],\n",
        "#                 \"desc\": article['description']\n",
        "#             })\n",
        "\n",
        "#         # JSON 형식으로 반환\n",
        "#         return json.dumps(result, ensure_ascii=False)\n",
        "\n",
        "#     else:\n",
        "#         return json.dumps({\"error\": \"Failed to fetch data\"}, ensure_ascii=False)\n",
        "\n",
        "# # 검색어\n",
        "# query = '삼성SDS 생성형 AI'\n",
        "\n",
        "# # 함수 호출\n",
        "# result = get_html(query)\n",
        "# print(result)"
      ]
    },
    {
      "cell_type": "markdown",
      "id": "e399facd",
      "metadata": {
        "id": "e399facd"
      },
      "source": [
        "## 2. OpenAI chat을 이용하여 요약하기"
      ]
    },
    {
      "cell_type": "markdown",
      "id": "a995dc0b",
      "metadata": {
        "id": "a995dc0b"
      },
      "source": [
        "키워드에 대한 뉴스 검색 결과를 요약합니다.   \n",
        "위 결과인 news_json 데이터를 입력으로 넣은 뒤, 해당 결과에 대한 요약을 요청합니다."
      ]
    },
    {
      "cell_type": "code",
      "execution_count": null,
      "id": "97ead65c",
      "metadata": {
        "id": "97ead65c"
      },
      "outputs": [],
      "source": [
        "def news_bot(messages):\n",
        "\n",
        "    result = client.chat.completions.create(\n",
        "        model=\"gpt-4o-mini\",\n",
        "        messages = messages,\n",
        "        temperature = 0.1,\n",
        "        max_tokens= 2048,\n",
        "    )\n",
        "\n",
        "    return result.choices[0].message.content"
      ]
    },
    {
      "cell_type": "code",
      "execution_count": null,
      "id": "ElqH6FhH-Af4",
      "metadata": {
        "id": "ElqH6FhH-Af4"
      },
      "outputs": [],
      "source": []
    },
    {
      "cell_type": "markdown",
      "id": "f0ff486c",
      "metadata": {
        "id": "f0ff486c"
      },
      "source": [
        "챗봇에 전달할 메시지는 두 개로 나눠집니다.   \n",
        "위에서 얻은 get_html(query)와, 사용자가 제시할 명령입니다.   "
      ]
    },
    {
      "cell_type": "code",
      "execution_count": null,
      "id": "4862d552",
      "metadata": {
        "id": "4862d552"
      },
      "outputs": [],
      "source": []
    },
    {
      "cell_type": "code",
      "execution_count": null,
      "id": "ba01b31a",
      "metadata": {
        "id": "ba01b31a",
        "scrolled": true
      },
      "outputs": [],
      "source": [
        "query = '삼성 라이온즈'\n",
        "\n",
        "news_json = get_html(query)\n",
        "\n",
        "result = news_bot([\n",
        "    {\n",
        "        \"role\": \"system\",\n",
        "        \"content\": query + \"\"\"에 대한 뉴스 검색 결과가 주어집니다. \"\"\"+ query+\"\"\"에 대한 뉴스를\n",
        "요약하세요.\n",
        "---\n",
        "\"\"\"\n",
        "    },\n",
        "    {\n",
        "        \"role\": \"user\",\n",
        "        \"content\": get_html(query)\n",
        "    }\n",
        "])\n",
        "\n",
        "result"
      ]
    },
    {
      "cell_type": "code",
      "execution_count": null,
      "id": "eb8753f4",
      "metadata": {
        "id": "eb8753f4"
      },
      "outputs": [],
      "source": [
        "# 토큰 수 체크\n",
        "\n",
        "import tiktoken\n",
        "tokenizer  = tiktoken.encoding_for_model('gpt-4o-mini')\n",
        "\n",
        "print(\"문자 수:\", len(news_json))\n",
        "print(\"토큰 수:\", len(tokenizer.encode(news_json)))\n",
        "news_json\n"
      ]
    },
    {
      "cell_type": "markdown",
      "id": "f22469ad",
      "metadata": {
        "id": "f22469ad"
      },
      "source": [
        "다양한 명령을 넣어서 형식과 스타일을 바꿀 수 있습니다."
      ]
    },
    {
      "cell_type": "code",
      "execution_count": null,
      "id": "b83450fb",
      "metadata": {
        "id": "b83450fb"
      },
      "outputs": [],
      "source": [
        "query = '삼성 라이온즈'\n",
        "\n",
        "news_json  = get_html(query)\n",
        "\n",
        "result = news_bot([\n",
        "    {\n",
        "        \"role\": \"user\",\n",
        "        \"content\": news_json\n",
        "    },\n",
        "    {\n",
        "        \"role\": \"user\",\n",
        "        \"content\": f\"\"\"\n",
        "---\n",
        "위 전체 내용을 종합하여 {query}의 동향과 미래에 대해 논쟁하는 두 사람의 대화 내용을 만들어줘. 한 명은 전문적인 말투, 한 명은 어리숙한 말투를 사용하고, 형식은 아래와 같아.\n",
        "---\n",
        "A:(A의 대화)\n",
        "B:(B의 대화)\n",
        "        \"\"\"\n",
        "    }\n",
        "])\n",
        "\n",
        "print(result)"
      ]
    },
    {
      "cell_type": "markdown",
      "id": "4aa4182c",
      "metadata": {
        "id": "4aa4182c"
      },
      "source": [
        "## 참고) 스트리밍\n",
        "ChatGPT처럼 글자가 한 글자씩 순서대로 쭉 출력되도록 하면 어떨까요?   \n",
        "이와 같은 작업을 스트리밍(Streaming)이라고 하며, 옵션을 추가하여 구현할 수 있습니다."
      ]
    },
    {
      "cell_type": "code",
      "execution_count": null,
      "id": "c9c2254e",
      "metadata": {
        "id": "c9c2254e"
      },
      "outputs": [],
      "source": [
        "def news_bot_stream(messages):\n",
        "\n",
        "    result = client.chat.completions.create(\n",
        "        model = \"gpt-4o-mini\",\n",
        "        messages = messages,\n",
        "        temperature = 0.1,\n",
        "        max_tokens = 2048,\n",
        "        stream=True # 스트리밍\n",
        "    )\n",
        "\n",
        "    return result"
      ]
    },
    {
      "cell_type": "code",
      "execution_count": null,
      "id": "c57c0f75",
      "metadata": {
        "id": "c57c0f75"
      },
      "outputs": [],
      "source": [
        "query = '삼성SDS'\n",
        "news_json = get_html(query)\n",
        "\n",
        "result = news_bot_stream([\n",
        "    {\n",
        "        \"role\": \"user\",\n",
        "        \"content\": news_json\n",
        "    },\n",
        "    {\n",
        "        \"role\": \"user\",\n",
        "        \"content\": \"\"\"\n",
        "위 전체 내용을 종합하여 친구에게 전달하는 편지를 작성해줘. 친절하고 상냥한 말투를 사용하고, 형식은 아래와 같아.\n",
        "---\n",
        "'제목':\n",
        "'본문':\n",
        "        \"\"\"\n",
        "    }\n",
        "])\n",
        "\n",
        "for chunk in result:\n",
        "    print(chunk.choices[0].delta.content, end='')"
      ]
    },
    {
      "cell_type": "markdown",
      "id": "72c46e8a",
      "metadata": {
        "id": "72c46e8a"
      },
      "source": [
        "이와 같은 스트리밍은 LLM 어플리케이션의 마지막 출력에서 사용하면    \n",
        "사용자 경험을 향상시킬 수 있습니다."
      ]
    },
    {
      "cell_type": "markdown",
      "id": "d34bf6c6",
      "metadata": {
        "id": "d34bf6c6"
      },
      "source": [
        "<br><br><br>\n",
        "## Tool(과거 Function Call) : 커스텀 함수 사용하기\n",
        "만약 query를 명시적으로 지정하지 않고, 사용자의 질문에 따라 관련 query를 추출하고,  \n",
        "이를 통해 검색하게 할 수도 있을까요?    \n",
        "\n",
        "`Tool Calling` 를 추가하면 이를 수행할 수 있습니다.    \n",
        "\n",
        "Web_Search라는 이름의 툴을 만들고, 이를 `get_html`과 연결하겠습니다.\n",
        "\n",
        "-------\n"
      ]
    },
    {
      "cell_type": "code",
      "source": [
        "from pydantic import BaseModel, Field\n",
        "\n",
        "class Web_Search(BaseModel):\n",
        "    \"\"\"질문이 들어오면, 핵심 키워드로 뉴스를 검색하여 그 결과를 저장합니다.\n",
        "매개변수 query는 핵심 키워드로, 한국어로 작성합니다.\"\"\"\n",
        "    query: str= Field(description=\"검색 키워드\")\n",
        "\n",
        "tools = [openai.pydantic_function_tool(Web_Search)]\n",
        "tools"
      ],
      "metadata": {
        "id": "1ST2hfv_344M"
      },
      "id": "1ST2hfv_344M",
      "execution_count": null,
      "outputs": []
    },
    {
      "cell_type": "markdown",
      "source": [
        "Tool 정보가 포함된 gpt는 함수의 구조와 설명을 이용하여 어떤 함수를 써야 하는지를 판단합니다.\n",
        "\n",
        "직접적으로 실행하는 것은 아니지만, 결과를 활용하면 해당 함수를 바로 사용할 수 있습니다."
      ],
      "metadata": {
        "id": "ckD055Kl37Df"
      },
      "id": "ckD055Kl37Df"
    },
    {
      "cell_type": "code",
      "execution_count": null,
      "id": "c8465bc2",
      "metadata": {
        "id": "c8465bc2"
      },
      "outputs": [],
      "source": [
        "def query_bot(messages):\n",
        "\n",
        "    # 사용할 툴 펑션의 목록과 설명을 리스트로 전달\n",
        "    # LLM이 스스로 description, name, parameter의 값을 통해 판단\n",
        "    class Web_Search(BaseModel):\n",
        "        \"\"\"질문이 들어오면, 핵심 키워드로 뉴스를 검색하여 그 결과를 저장합니다.\n",
        "매개변수 query는 핵심 키워드로, 한국어로 작성합니다.\"\"\"\n",
        "        query: str= Field(description=\"검색 키워드\")\n",
        "\n",
        "    tools = [openai.pydantic_function_tool(Web_Search)]\n",
        "\n",
        "\n",
        "\n",
        "    result = client.chat.completions.create(\n",
        "        model = \"gpt-4o-mini\",\n",
        "        messages = messages,\n",
        "        tools = tools,\n",
        "        tool_choice = 'auto',\n",
        "        # 'none'이면 툴 사용하지 않음\n",
        "        # 'required'면 무조건 툴 사용\n",
        "        temperature= 0.1,\n",
        "        max_tokens= 1024,\n",
        "    )\n",
        "\n",
        "    return result.choices[0].message"
      ]
    },
    {
      "cell_type": "code",
      "execution_count": null,
      "id": "_vzJwQWN5QY7",
      "metadata": {
        "id": "_vzJwQWN5QY7"
      },
      "outputs": [],
      "source": [
        "result = query_bot([\n",
        "    {\n",
        "        \"role\": \"user\",\n",
        "        \"content\": \"\"\"안녕하세요! 오늘 날씨가 좋네요.\"\"\"\n",
        "    }\n",
        "])\n",
        "\n",
        "result"
      ]
    },
    {
      "cell_type": "code",
      "execution_count": null,
      "id": "34500980",
      "metadata": {
        "id": "34500980"
      },
      "outputs": [],
      "source": [
        "result = query_bot([\n",
        "    {\n",
        "        \"role\": \"user\",\n",
        "        \"content\": \"\"\"\n",
        "요즘 새로 개봉한 영화는 무엇이 있나요?\n",
        "\"\"\"\n",
        "    }\n",
        "])\n",
        "\n",
        "result"
      ]
    },
    {
      "cell_type": "markdown",
      "id": "-lBwdy_f5vMA",
      "metadata": {
        "id": "-lBwdy_f5vMA"
      },
      "source": [
        "LLM이 스스로 판단하여, 실행할 함수의 정보를 `tool_calls`에 돌려줍니다."
      ]
    },
    {
      "cell_type": "code",
      "execution_count": null,
      "id": "85f007da",
      "metadata": {
        "id": "85f007da"
      },
      "outputs": [],
      "source": [
        "result.tool_calls[0].function.name, result.tool_calls[0].function.arguments"
      ]
    },
    {
      "cell_type": "markdown",
      "id": "dTJGyyWs6D4e",
      "metadata": {
        "id": "dTJGyyWs6D4e"
      },
      "source": [
        "함수명과 함수에 전달할 매개변수값이 주어지면, 아래와 같이 함수를 불러올 수 있습니다."
      ]
    },
    {
      "cell_type": "code",
      "execution_count": null,
      "id": "-dHIEPJe6DpO",
      "metadata": {
        "id": "-dHIEPJe6DpO"
      },
      "outputs": [],
      "source": [
        "# 문자열을 Dict로 바꾸기\n",
        "\n",
        "example = '{\"query\":\"LLM\"}'\n",
        "\n",
        "example_dict = json.loads(example)\n",
        "# json으로 변환\n",
        "\n",
        "print(example_dict)\n",
        "print(type(example_dict))\n",
        "\n"
      ]
    },
    {
      "cell_type": "code",
      "execution_count": null,
      "id": "jFXaG0Gy6dHw",
      "metadata": {
        "id": "jFXaG0Gy6dHw"
      },
      "outputs": [],
      "source": [
        "# 함수이름 문자열을 함수로 바꾸기\n",
        "\n",
        "available_functions = {'Web_Search': get_html}\n",
        "\n",
        "available_functions['Web_Search'](query = 'LLM')"
      ]
    },
    {
      "cell_type": "code",
      "execution_count": null,
      "id": "jHBnRR_v72Yi",
      "metadata": {
        "id": "jHBnRR_v72Yi"
      },
      "outputs": [],
      "source": [
        "# Dictionary를 함수의 매개변수로 전달하기\n",
        "\n",
        "def f(a,b):\n",
        "  return a + b\n",
        "\n",
        "example2 = {'a': 1, 'b': 2}\n",
        "\n",
        "f(**example2)\n"
      ]
    },
    {
      "cell_type": "code",
      "execution_count": null,
      "id": "w_qW36Y26qS4",
      "metadata": {
        "id": "w_qW36Y26qS4"
      },
      "outputs": [],
      "source": [
        "get_html(**example_dict)"
      ]
    },
    {
      "cell_type": "markdown",
      "id": "ae9443e6",
      "metadata": {
        "id": "ae9443e6",
        "vscode": {
          "languageId": "bat"
        }
      },
      "source": [
        "`query_bot`, `get_html`, `news_bot` 을 조합하여 실행해 보겠습니다."
      ]
    },
    {
      "cell_type": "code",
      "execution_count": null,
      "id": "vvzJ5ziM5_U2",
      "metadata": {
        "id": "vvzJ5ziM5_U2"
      },
      "outputs": [],
      "source": []
    },
    {
      "cell_type": "code",
      "execution_count": null,
      "id": "db7579cc",
      "metadata": {
        "id": "db7579cc"
      },
      "outputs": [],
      "source": [
        "# example\n",
        "# \"오늘 가장 큰 뉴스는 뭐야?\"\n",
        "# \"\"\"오픈AI는 요즘 새로운 소식 있어?\"\"\"\n",
        "\n",
        "prompt = \"\"\"넷플릭스 신작 추천해줘.\"\"\"\n",
        "print('Prompt:',prompt)\n",
        "\n",
        "\n",
        "# 출력 결과를 함수와 연결하기 위한 dictionary\n",
        "available_functions = {'Web_Search':get_html}\n",
        "\n",
        "\n",
        "# query_bot은 프롬프트를 받아 get_html을 수행할지 결정합니다.\n",
        "# 단순 대화라면 tool call을 생성하지 않습니다.\n",
        "result = query_bot([\n",
        "    {\n",
        "        \"role\": \"user\",\n",
        "        \"content\": prompt\n",
        "    }\n",
        "])\n",
        "\n",
        "print('---')\n",
        "print('Query_Bot: Call ', end='')\n",
        "\n",
        "\n",
        "\n",
        "if result.tool_calls: # tool_calls가 존재하면:\n",
        "\n",
        "    name, arguments = result.tool_calls[0].function.name, result.tool_calls[0].function.arguments\n",
        "    print(name,arguments)\n",
        "    # 이름과 인수 출력\n",
        "\n",
        "\n",
        "    arguments = json.loads(arguments)\n",
        "    # Str To Dict\n",
        "\n",
        "    news_json = available_functions[name](**arguments)\n",
        "    # 함수 선택, 매개변수 전달\n",
        "\n",
        "    print('---')\n",
        "    print('News_Bot:',end='')\n",
        "\n",
        "\n",
        "\n",
        "    # news_bot_stream으로 요약 수행\n",
        "    result = news_bot_stream([\n",
        "        {\n",
        "            \"role\": \"system\",\n",
        "            \"content\": \"\"\"뉴스 검색 결과와 질문이 주어집니다.\n",
        "검색 결과를 바탕으로 질문에 답변하세요.\n",
        "문장마다 줄바꿈을 사용하고, 만약 링크가 필요하다면 실제 링크를 추가하세요.\n",
        "친절하고 상냥한 말투를 사용하세요.\"\"\"\n",
        "        },\n",
        "        {\n",
        "            \"role\": \"user\",\n",
        "            \"content\": f\"\"\"\n",
        "뉴스 검색 결과 : {news_json}\n",
        "질문: {prompt}\n",
        "\"\"\"\n",
        "\n",
        "        }\n",
        "    ])\n",
        "    for chunk in result:\n",
        "       print(chunk.choices[0].delta.content, end='')\n",
        "\n",
        "else:\n",
        "    print('Nothing')\n",
        "    print(result.content)"
      ]
    },
    {
      "cell_type": "markdown",
      "id": "5fe30bcb",
      "metadata": {
        "id": "5fe30bcb"
      },
      "source": [
        "## 3. 보안 프롬프트 추가하기"
      ]
    },
    {
      "cell_type": "markdown",
      "id": "91300ded",
      "metadata": {
        "id": "91300ded"
      },
      "source": [
        "위에서 만든 news_bot에, 관련없는 질문을 입력하면 어떻게 될까요?"
      ]
    },
    {
      "cell_type": "code",
      "execution_count": null,
      "id": "661afa73",
      "metadata": {
        "id": "661afa73"
      },
      "outputs": [],
      "source": [
        "news_json"
      ]
    },
    {
      "cell_type": "code",
      "execution_count": null,
      "id": "1f0cadfc",
      "metadata": {
        "id": "1f0cadfc"
      },
      "outputs": [],
      "source": [
        "prompt = '오늘 저녁 뭐 먹을까? 타코와 피자 중에서.'\n",
        "\n",
        "result = news_bot([\n",
        "        {\n",
        "            \"role\": \"system\",\n",
        "            \"content\": \"\"\"뉴스 검색 결과와 질문이 주어집니다.\n",
        "검색 결과를 바탕으로 질문에 답변하세요.\n",
        "문장마다 줄바꿈을 사용하고, 만약 링크가 필요하다면 실제 링크를 추가하세요.\n",
        "친절하고 상냥한 말투를 사용하세요.\"\"\"\n",
        "        },\n",
        "        {\n",
        "            \"role\": \"user\",\n",
        "            \"content\": f\"\"\"\n",
        "뉴스 검색 결과 : {news_json}\n",
        "질문: {prompt}\n",
        "\"\"\"\n",
        "\n",
        "        }\n",
        "    ])\n",
        "\n",
        "result"
      ]
    },
    {
      "cell_type": "markdown",
      "id": "6c57a07f",
      "metadata": {
        "id": "6c57a07f"
      },
      "source": [
        "그럭저럭 대답을 잘 하고 있습니다만, query를 통해 검색한 결과와는 관련이 없습니다.   \n",
        "만약 특정 태스크만을 수행하는 챗봇을 만들었다면, 이와 같은 응답은 **환각(Hallucination)** 으로 간주될 수 있으며,   \n",
        "이와 같은 행동을 쉽게 허용한다면 예상치 못한 출력을 생성할지도 모릅니다.\n"
      ]
    },
    {
      "cell_type": "markdown",
      "id": "b61e167d",
      "metadata": {
        "id": "b61e167d"
      },
      "source": [
        "환각을 방지하기 위해, 프롬프트를 조금 더 강화시켜 보겠습니다.    \n",
        "챗봇의 메시지 중 `system`을 이용하면, 챗봇의 행동을 더 명시적으로 전달할 수 있습니다."
      ]
    },
    {
      "cell_type": "code",
      "execution_count": null,
      "id": "FUkkFy1n84sw",
      "metadata": {
        "id": "FUkkFy1n84sw"
      },
      "outputs": [],
      "source": [
        "news_json"
      ]
    },
    {
      "cell_type": "code",
      "execution_count": null,
      "id": "9e3d4644",
      "metadata": {
        "id": "9e3d4644"
      },
      "outputs": [],
      "source": [
        "prompt = \"오늘 저녁 뭐 먹을까? 타코와 피자 중에서.\"\n",
        "\n",
        "result = news_bot([\n",
        "    {\"role\": \"system\",\n",
        "            \"content\": \"\"\"[뉴스 검색 결과]와 [질문]이 주어집니다.\n",
        "검색 결과를 바탕으로 질문에 답변하세요.\n",
        "문장마다 줄바꿈을 사용하고, 만약 링크가 필요하다면 실제 링크를 추가하세요.\n",
        "친절하고 상냥한 말투를 사용하세요.\n",
        "만약 [뉴스 검색 결과]의 내용만으로 답변하기 어려운 경우에는 '답변할 수 없습니다.'만 출력하세요.\"\"\"},\n",
        "\n",
        "    {\"role\": \"user\",\n",
        "            \"content\": f\"\"\"\n",
        "뉴스 검색 결과 : {news_json}\n",
        "질문: {prompt}\n",
        "\"\"\"}\n",
        "\n",
        "])\n",
        "\n",
        "result"
      ]
    },
    {
      "cell_type": "markdown",
      "id": "c8452a41",
      "metadata": {
        "id": "c8452a41"
      },
      "source": [
        "이번 실습 시간에 만들어 본 봇의 기능을 더 추가하는 방법에는 무엇이 있을까요?\n",
        "<br><br>\n",
        "- 검색 결과에서 최신 기사만 필터링하기\n",
        "- query 검색 결과에서 특정 단어가 포함된 기사는 제외하기\n",
        "- 각 기사들의 설명을 보고 해당 단어에 대한 긍정(부정)적인 기사만 사용하여 요약하기    \n",
        "\n",
        "이와 같은 방법들은 실제로 사용되는 방식이므로, 이를 활용하면 챗봇의 기능을 더 고도화할 수 있습니다."
      ]
    },
    {
      "cell_type": "markdown",
      "id": "1c03dfe9",
      "metadata": {
        "id": "1c03dfe9"
      },
      "source": [
        "## 부록) Prompt Injection\n",
        "\n",
        "적대적 프롬프트(Adversarial Prompt)를 통해 챗봇의 기능을 무력화하고, 정보를 유출시키는 프롬프트도 있습니다.\n",
        "\n",
        "https://www.promptingguide.ai/kr/risks/adversarial    \n",
        "https://github.com/0xk1h0/ChatGPT_DAN    \n"
      ]
    }
  ],
  "metadata": {
    "colab": {
      "provenance": [],
      "include_colab_link": true
    },
    "kernelspec": {
      "display_name": "Python 3 (ipykernel)",
      "language": "python",
      "name": "python3"
    },
    "language_info": {
      "codemirror_mode": {
        "name": "ipython",
        "version": 3
      },
      "file_extension": ".py",
      "mimetype": "text/x-python",
      "name": "python",
      "nbconvert_exporter": "python",
      "pygments_lexer": "ipython3",
      "version": "3.10.11"
    }
  },
  "nbformat": 4,
  "nbformat_minor": 5
}
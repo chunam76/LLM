{
  "cells": [
    {
      "cell_type": "markdown",
      "metadata": {
        "id": "view-in-github",
        "colab_type": "text"
      },
      "source": [
        "<a href=\"https://colab.research.google.com/github/chunam76/LLM/blob/main/%5B%EC%8B%A4%EC%8A%B5%5D_2_OpenAI_API_%EA%B8%B0%EB%B0%98_%EB%8C%93%EA%B8%80_%EB%B6%84%EB%A5%98_%EC%9E%90%EB%8F%99%ED%99%94.ipynb\" target=\"_parent\"><img src=\"https://colab.research.google.com/assets/colab-badge.svg\" alt=\"Open In Colab\"/></a>"
      ]
    },
    {
      "cell_type": "markdown",
      "id": "e993b222",
      "metadata": {
        "id": "e993b222"
      },
      "source": [
        "# [실습] OpenAI API를 이용하여 댓글 자동 분류하기"
      ]
    },
    {
      "cell_type": "markdown",
      "id": "f4b410df",
      "metadata": {
        "id": "f4b410df"
      },
      "source": [
        "OpenAI의 Chat API를 이용해, 댓글의 긍정/부정 여부를 분류하는 기능을 구현해 보겠습니다.   \n",
        "이는 Sentiment Analysis라고 부르는 감정 분석 문제 중 하나로,   \n",
        "자연어 처리에서 매우 역사가 깊은 문제입니다.   \n",
        "\n"
      ]
    },
    {
      "cell_type": "code",
      "execution_count": null,
      "id": "f6eb4187",
      "metadata": {
        "id": "f6eb4187"
      },
      "outputs": [],
      "source": [
        "!pip install openai --upgrade"
      ]
    },
    {
      "cell_type": "markdown",
      "id": "5e67b909",
      "metadata": {
        "id": "5e67b909"
      },
      "source": [
        "실습용 데이터는 `reviews.csv` 파일입니다.   \n",
        "해당 파일을 pandas를 통해 불러옵니다."
      ]
    },
    {
      "cell_type": "code",
      "execution_count": null,
      "id": "6e4d7923",
      "metadata": {
        "id": "6e4d7923"
      },
      "outputs": [],
      "source": [
        "import pandas as pd\n",
        "\n",
        "reviews = pd.read_csv('./reviews.csv')\n",
        "print(reviews.shape)\n",
        "reviews.head()"
      ]
    },
    {
      "cell_type": "markdown",
      "id": "5133a826",
      "metadata": {
        "id": "5133a826"
      },
      "source": [
        "주어진 리뷰 데이터는 다음의 column으로 구성되어 있습니다.\n",
        "- Num : 리뷰 인덱스 번호\n",
        "- Review: 리뷰 텍스트\n",
        "- Label: 긍정/부정 레이블 (-1:부정, 1:긍정)\n",
        "\n"
      ]
    },
    {
      "cell_type": "code",
      "execution_count": null,
      "id": "ccd94373",
      "metadata": {
        "id": "ccd94373"
      },
      "outputs": [],
      "source": [
        "# os의 환경 변수에 API 키 복사 붙여넣기\n",
        "import openai\n",
        "import os\n",
        "\n",
        "# OPENAI API KEY 설정\n",
        "os.environ['OPENAI_API_KEY']=\"\"\n",
        "\n",
        "client = openai.OpenAI()\n",
        "\n",
        "\n",
        "assert len(os.environ['OPENAI_API_KEY']) > 0, \"OPENAI_API_KEY가 환경 변수에 설정되어 있지 않습니다. API 키를 설정해주세요.\"\n",
        "\n",
        "# API 키가 설정되어 있다면, 이 지점 이후의 코드가 실행됩니다.\n",
        "print(\"OPENAI_API_KEY가 정상적으로 설정되어 있습니다.\")"
      ]
    },
    {
      "cell_type": "markdown",
      "id": "6184c71a",
      "metadata": {
        "id": "6184c71a"
      },
      "source": [
        "가장 단순한 형태로 프롬프트를 만들어 보겠습니다.\n",
        "\n",
        "- 지시사항이 먼저 입력되고, 줄바꿈 후 리뷰를 입력합니다.\n",
        "- 리뷰의 분류 결과는 1(긍정)과 -1(부정) 중 하나로만 출력되게 합니다."
      ]
    },
    {
      "cell_type": "code",
      "execution_count": null,
      "id": "8ea44284",
      "metadata": {
        "id": "8ea44284"
      },
      "outputs": [],
      "source": [
        "system_prompt='''\n",
        "주어지는 입력이 긍정/부정 중 어떤 내용을 담고 있는지 분류하세요.\n",
        "긍정인 경우 '긍정', 부정인 경우 '부정'만 출력하세요.\n",
        "'''\n",
        "\n",
        "def classify_review(review, instruction):\n",
        "    response = client.chat.completions.create(\n",
        "        model = 'gpt-4o-mini',\n",
        "        messages = [{'role': 'system', 'content': instruction},\n",
        "                  {'role': 'user', 'content': review}],\n",
        "        max_tokens = 300,\n",
        "        temperature = 0\n",
        "        )\n",
        "    return response.choices[0].message.content"
      ]
    },
    {
      "cell_type": "code",
      "execution_count": null,
      "id": "653b0b75",
      "metadata": {
        "id": "653b0b75"
      },
      "outputs": [],
      "source": []
    },
    {
      "cell_type": "code",
      "execution_count": null,
      "id": "766ebfd0",
      "metadata": {
        "id": "766ebfd0"
      },
      "outputs": [],
      "source": [
        "correct = 0\n",
        "incorrect = 0\n",
        "for idx, review, label in zip(reviews['Num'],reviews['Review'], reviews['Label']):\n",
        "    print(f'#{idx} : ({correct}/{incorrect})')\n",
        "    print(review)\n",
        "    response = classify_review(review, system_prompt)\n",
        "    print(response, '/', label)\n",
        "    if label == -1:\n",
        "        if response=='부정':\n",
        "            correct+=1\n",
        "        else:\n",
        "            incorrect += 1\n",
        "            print('Misclassification!')\n",
        "    else:\n",
        "        if response=='긍정':\n",
        "            correct+=1\n",
        "        else:\n",
        "            incorrect += 1\n",
        "            print('Misclassification!')\n",
        "    print()\n",
        "print('Correct:', correct)\n",
        "print('Incorrect:', incorrect)\n",
        "print('Accuracy:', correct / (correct + incorrect))\n"
      ]
    },
    {
      "cell_type": "markdown",
      "id": "e56eb3c0",
      "metadata": {
        "id": "e56eb3c0"
      },
      "source": [
        "전반적으로 잘 맞추지만, 가끔 틀리기도 합니다.    \n",
        "앞에서 배운 프롬프트 엔지니어링을 고려하면, 성능을 올릴 수 있을까요?"
      ]
    },
    {
      "cell_type": "code",
      "execution_count": null,
      "id": "01c7912e",
      "metadata": {
        "id": "01c7912e"
      },
      "outputs": [],
      "source": [
        "good_system_prompt='''\n",
        "음식점에 대한 리뷰가 주어지면, 이를 해석하고 '긍정/부정'중 하나로 최종 분류 결과를 출력하세요.\n",
        "\n",
        "답변의 마지막에 분류 결과: 부정, 혹은 분류 결과: 긍정 을 출력하면 됩니다.\n",
        "위 형식을 지키고, 분류 결과 뒤에는 별도의 내용을 출력하지 마세요.\n",
        "---\n",
        "\n",
        "'''"
      ]
    },
    {
      "cell_type": "code",
      "execution_count": null,
      "id": "11086b97",
      "metadata": {
        "id": "11086b97"
      },
      "outputs": [],
      "source": [
        "def evaluate(system_prompt):\n",
        "    correct = 0\n",
        "    incorrect = 0\n",
        "    for idx, review, label in zip(reviews['Num'],reviews['Review'], reviews['Label']):\n",
        "        print(f'#{idx} : ({correct}/{incorrect})')\n",
        "        print(review)\n",
        "        response = classify_review(review, system_prompt)\n",
        "        print(response, '/', label)\n",
        "        if label == -1:\n",
        "            if '분류 결과: 부정' in response:\n",
        "                correct+=1\n",
        "            else:\n",
        "                incorrect += 1\n",
        "                print('Misclassification!')\n",
        "        else:\n",
        "            if '분류 결과: 긍정' in response:\n",
        "                correct+=1\n",
        "            else:\n",
        "                incorrect += 1\n",
        "                print('Misclassification!')\n",
        "        print()\n",
        "    print('Correct:', correct)\n",
        "    print('Incorrect:', incorrect)\n",
        "    print('Accuracy:', correct / (correct + incorrect))\n"
      ]
    },
    {
      "cell_type": "code",
      "execution_count": null,
      "id": "307b37a7",
      "metadata": {
        "id": "307b37a7"
      },
      "outputs": [],
      "source": [
        "evaluate(good_system_prompt)"
      ]
    },
    {
      "cell_type": "markdown",
      "id": "2bf1d3eb",
      "metadata": {
        "id": "2bf1d3eb"
      },
      "source": [
        "<br><br><br>\n",
        "프롬프트 엔지니어링에서 배운 대로, 답변을 준비할 시간을 주자 논리적 추론 성능이 향상되는 것을 볼 수 있습니다.   \n",
        "\n",
        "성능은 올라갔지만, 아직 완벽하지 않습니다."
      ]
    },
    {
      "cell_type": "markdown",
      "id": "cc1f52dd",
      "metadata": {
        "id": "cc1f52dd"
      },
      "source": [
        "## [실습] 리뷰 평가 프롬프트 개선하기\n",
        "주어진 프롬프트를 한번 더 개선하여, 100% 정확도의 프롬프트를 만들어 보세요!   <br><br>"
      ]
    },
    {
      "cell_type": "code",
      "execution_count": null,
      "id": "96b3142a",
      "metadata": {
        "id": "96b3142a"
      },
      "outputs": [],
      "source": [
        "great_system_prompt='''\n",
        "\n",
        "'''"
      ]
    },
    {
      "cell_type": "code",
      "execution_count": null,
      "id": "49836fee",
      "metadata": {
        "id": "49836fee"
      },
      "outputs": [],
      "source": [
        "evaluate(great_system_prompt)"
      ]
    },
    {
      "cell_type": "markdown",
      "id": "1c03dfe9",
      "metadata": {
        "id": "1c03dfe9"
      },
      "source": [
        "## 부록) GPT-4 VS GPT-3.5\n",
        "\n",
        "\n",
        "<img src=\"https://github.com/NotoriousH2/img_container/assets/4037207/de39d8d4-e3bf-4a81-9a60-969fa240334f\" height=\"80%\" width=\"80%\">\n",
        "<br><br>"
      ]
    },
    {
      "cell_type": "code",
      "execution_count": null,
      "id": "ELGdfSc8v4Ps",
      "metadata": {
        "id": "ELGdfSc8v4Ps"
      },
      "outputs": [],
      "source": []
    },
    {
      "cell_type": "code",
      "execution_count": null,
      "id": "vVqQ0Ob5nw6z",
      "metadata": {
        "id": "vVqQ0Ob5nw6z"
      },
      "outputs": [],
      "source": [
        "# 참고\n",
        "'''\n",
        "음식점에 대한 리뷰가 주어지면, 아래의 요소에 대한 견해를 각각 30자 이내로 출력하고,\n",
        "이를 바탕으로 '긍정/부정'중 하나로 최종 분류 결과를 출력하세요.\n",
        "각 요소에 대한 언급이 없는 경우 생략하세요.\n",
        "일반적으로, 부정에서 긍정으로 끝나는 경우 긍정 리뷰입니다.\n",
        "긍정에서 부정으로 끝나는 경우 부정 리뷰입니다.\n",
        "답변의 마지막에 분류 결과: 부정, 혹은 분류 결과: 긍정 을 출력하면 됩니다.\n",
        "위 형식을 지키고, 분류 결과 뒤에는 별도의 내용을 출력하지 마세요.\n",
        "---\n",
        "1. 음식\n",
        "2. 서비스\n",
        "3. 가격 대비 만족도\n",
        "4. 다른 식당과의 비교\n",
        "5. 분위기와 음악 등\n",
        "6. 분류 결과\n",
        "---\n",
        "'''"
      ]
    }
  ],
  "metadata": {
    "colab": {
      "provenance": [],
      "include_colab_link": true
    },
    "kernelspec": {
      "display_name": "Python 3 (ipykernel)",
      "language": "python",
      "name": "python3"
    },
    "language_info": {
      "codemirror_mode": {
        "name": "ipython",
        "version": 3
      },
      "file_extension": ".py",
      "mimetype": "text/x-python",
      "name": "python",
      "nbconvert_exporter": "python",
      "pygments_lexer": "ipython3",
      "version": "3.10.11"
    }
  },
  "nbformat": 4,
  "nbformat_minor": 5
}